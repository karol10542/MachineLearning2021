{
  "nbformat": 4,
  "nbformat_minor": 0,
  "metadata": {
    "colab": {
      "name": "LAB_3_multi_armed_bandit_STARTER.ipynb",
      "provenance": [],
      "collapsed_sections": [],
      "include_colab_link": true
    },
    "kernelspec": {
      "name": "python3",
      "display_name": "Python 3"
    }
  },
  "cells": [
    {
      "cell_type": "markdown",
      "metadata": {
        "id": "view-in-github",
        "colab_type": "text"
      },
      "source": [
        "<a href=\"https://colab.research.google.com/github/karol10542/MachineLearning2021/blob/main/LAB_3_multi_armed_bandit_STARTER.ipynb\" target=\"_parent\"><img src=\"https://colab.research.google.com/assets/colab-badge.svg\" alt=\"Open In Colab\"/></a>"
      ]
    },
    {
      "cell_type": "code",
      "metadata": {
        "id": "ABngBrP7TxHY"
      },
      "source": [
        "import matplotlib.pyplot as plt\n",
        "import numpy as np"
      ],
      "execution_count": 26,
      "outputs": []
    },
    {
      "cell_type": "code",
      "metadata": {
        "id": "b_mJ6w33nOGP"
      },
      "source": [
        "NUM_TRIALS = 10000 # ilosc prob \n",
        "BANDIT_PROBABILITIES = [0.2,0.5,0.75]\n",
        "EPSILON = 0.1\n"
      ],
      "execution_count": 27,
      "outputs": []
    },
    {
      "cell_type": "code",
      "metadata": {
        "id": "d0pA7DV8noZ1"
      },
      "source": [
        "class Bandit:\n",
        "  def __init__(self,q): #q - prawdopodob, wspolczynnik zwycies\n",
        "    self.q = q # wspolczynniki zwyciestwa\n",
        "    self.q_estimate = 0. #wartosc szacunkowa w jaki sposob algo szacuje warotsci nagrody dla bandyty na ktorym gra\n",
        "    self.N = 0. #ilosc prob\n",
        "\n",
        "  def pull(self): \n",
        "      return np.random.random() < self.q #losowy przedzial od 0 do 1 i sprawdzac czy ta liczba jest mniejsza od prawdziwej wartosci prawdop\n",
        "\n",
        "  def update(self,r): #zwieksza ilosc prob\n",
        "        self.N+=1.\n",
        "        self.q_estimate = ((self.N - 1)* self.q_estimate +r )/self.N # szacowanie wartosci iteracyjnie\n"
      ],
      "execution_count": 41,
      "outputs": []
    },
    {
      "cell_type": "code",
      "metadata": {
        "colab": {
          "base_uri": "https://localhost:8080/",
          "height": 370
        },
        "id": "_dKhpGNvu6tY",
        "outputId": "f2a1c198-6fc5-4923-f7a8-4f6123df03ca"
      },
      "source": [
        "def experiment_greedy():\n",
        "  bandits = [Bandit(q) for q in BANDIT_PROBABILITIES]\n",
        "  rewards = np.zeros(NUM_TRIALS)\n",
        "\n",
        "  for i in range(NUM_TRIALS):\n",
        "    j = np.argmax([b.q_estimate for b in bandits])\n",
        "\n",
        "    r = bandits[j].pull()\n",
        "\n",
        "    rewards[i] = r\n",
        "\n",
        "    bandits[j].update(r)\n",
        "\n",
        "  for b in bandits:\n",
        "    print(\"mean estimate:\", b.q_estimate)\n",
        "\n",
        "  print(\"total reward earned:\", rewards.sum())\n",
        "  print(\"overall win rate:\", rewards.sum() / NUM_TRIALS)\n",
        "  print(\"num times selected each bandit:\", [b.N for b in bandits])\n",
        "\n",
        "  cumulative_rewards = np.cumsum(rewards)\n",
        "  win_rates = cumulative_rewards / (np.arange(NUM_TRIALS) + 1)\n",
        "  plt.ylim([0, 1])\n",
        "  plt.plot(win_rates)\n",
        "  plt.plot(np.ones(NUM_TRIALS)*np.max(BANDIT_PROBABILITIES))\n",
        "  plt.show()\n",
        "\n",
        "if __name__ == \"__main__\":\n",
        "  experiment_greedy()"
      ],
      "execution_count": 42,
      "outputs": [
        {
          "output_type": "stream",
          "text": [
            "mean estimate: 0.19420000000000012\n",
            "mean estimate: 0.0\n",
            "mean estimate: 0.0\n",
            "total reward earned: 1942.0\n",
            "overall win rate: 0.1942\n",
            "num times selected each bandit: [10000.0, 0.0, 0.0]\n"
          ],
          "name": "stdout"
        },
        {
          "output_type": "display_data",
          "data": {
            "image/png": "[encoded data removed]",
            "text/plain": [
              "<Figure size 432x288 with 1 Axes>"
            ]
          },
          "metadata": {
            "tags": [],
            "needs_background": "light"
          }
        }
      ]
    },
    {
      "cell_type": "code",
      "metadata": {
        "colab": {
          "base_uri": "https://localhost:8080/",
          "height": 370
        },
        "id": "XGsLj1MCvWjL",
        "outputId": "3f24d29a-bab5-43af-c2b8-38d949f60118"
      },
      "source": [
        "def experiment_optimisitc():\n",
        "  bandits = [Bandit(q) for q in BANDIT_PROBABILITIES]\n",
        "  rewards = np.zeros(NUM_TRIALS)\n",
        "\n",
        "  for i in range(NUM_TRIALS):\n",
        "    j = np.argmax([b.q_estimate for b in bandits])\n",
        "\n",
        "    r = bandits[j].pull()\n",
        "\n",
        "    rewards[i] = r\n",
        "\n",
        "    bandits[j].update(r)\n",
        "\n",
        "  for b in bandits:\n",
        "    print(\"mean estimate:\", b.q_estimate)\n",
        "\n",
        "  print(\"total reward earned:\", rewards.sum())\n",
        "  print(\"overall win rate:\", rewards.sum() / NUM_TRIALS)\n",
        "  print(\"num times selected each bandit:\", [b.N for b in bandits])\n",
        "\n",
        "  cumulative_rewards = np.cumsum(rewards)\n",
        "  win_rates = cumulative_rewards / (np.arange(NUM_TRIALS) + 1)\n",
        "  plt.ylim([0, 1])\n",
        "  plt.plot(win_rates)\n",
        "  plt.plot(np.ones(NUM_TRIALS)*np.max(BANDIT_PROBABILITIES))\n",
        "  plt.show()\n",
        "\n",
        "if __name__ == \"__main__\":\n",
        "  experiment_greedy()"
      ],
      "execution_count": 43,
      "outputs": [
        {
          "output_type": "stream",
          "text": [
            "mean estimate: 0.20369999999999983\n",
            "mean estimate: 0.0\n",
            "mean estimate: 0.0\n",
            "total reward earned: 2037.0\n",
            "overall win rate: 0.2037\n",
            "num times selected each bandit: [10000.0, 0.0, 0.0]\n"
          ],
          "name": "stdout"
        },
        {
          "output_type": "display_data",
          "data": {
            "image/png": "[encoded data removed]",
            "text/plain": [
              "<Figure size 432x288 with 1 Axes>"
            ]
          },
          "metadata": {
            "tags": [],
            "needs_background": "light"
          }
        }
      ]
    },
    {
      "cell_type": "code",
      "metadata": {
        "colab": {
          "base_uri": "https://localhost:8080/",
          "height": 433
        },
        "id": "HAtfJPZD0nF7",
        "outputId": "292e98a9-7004-4cc5-f8de-f77f3ec472e6"
      },
      "source": [
        "def experiment_epsilon():\n",
        "  bandits = [Bandit(q) for q in BANDIT_PROBABILITIES]\n",
        "  rewards = np.zeros(NUM_TRIALS)\n",
        "  num_times_explored = 0\n",
        "  num_times_exploited = 0\n",
        "  num_optimal = 0\n",
        "  optimal_bandit = np.argmax([b.q for b in bandits])\n",
        "  print(\"optimal bandit:\", optimal_bandit)\n",
        "\n",
        "  for i in range(NUM_TRIALS):\n",
        "    if np.random.random() < EPSILON:\n",
        "      num_times_explored += 1\n",
        "      j = np.random.randint(len(bandits))\n",
        "    else:\n",
        "      num_times_exploited += 1\n",
        "      j = np.argmax([b.q_estimate for b in bandits])\n",
        "\n",
        "    if j == optimal_bandit:\n",
        "      num_optimal += 1\n",
        "\n",
        "    r = bandits[j].pull()\n",
        "\n",
        "    rewards[i] = r\n",
        "\n",
        "    bandits[j].update(r)\n",
        "\n",
        "    \n",
        "  for b in bandits:\n",
        "    print(\"mean estimate:\", b.q_estimate)\n",
        "\n",
        "  print(\"total reward earned:\", rewards.sum())\n",
        "  print(\"overall win rate:\", rewards.sum() / NUM_TRIALS)\n",
        "  print(\"num times selected each bandit:\", [b.N for b in bandits])\n",
        "  print(\"num times selected optimal bandit:\", num_optimal)\n",
        "  print(\"num_times_explored:\", num_times_explored)\n",
        "  print(\"num_times_exploited:\", num_times_exploited)\n",
        "  \n",
        "\n",
        "  cumulative_rewards = np.cumsum(rewards)\n",
        "  win_rates = cumulative_rewards / (np.arange(NUM_TRIALS) + 1)\n",
        "  plt.plot(win_rates)\n",
        "  plt.plot(np.ones(NUM_TRIALS)*np.max(BANDIT_PROBABILITIES))\n",
        "  plt.show()\n",
        "\n",
        "if __name__ == \"__main__\":\n",
        "  experiment_epsilon()"
      ],
      "execution_count": 44,
      "outputs": [
        {
          "output_type": "stream",
          "text": [
            "optimal bandit: 2\n",
            "mean estimate: 0.234375\n",
            "mean estimate: 0.48882681564245783\n",
            "mean estimate: 0.7587427590645786\n",
            "total reward earned: 7323.0\n",
            "overall win rate: 0.7323\n",
            "num times selected each bandit: [320.0, 358.0, 9322.0]\n",
            "num times selected optimal bandit: 9322\n",
            "num_times_explored: 1029\n",
            "num_times_exploited: 8971\n"
          ],
          "name": "stdout"
        },
        {
          "output_type": "display_data",
          "data": {
            "image/png": "[encoded data removed]",
            "text/plain": [
              "<Figure size 432x288 with 1 Axes>"
            ]
          },
          "metadata": {
            "tags": [],
            "needs_background": "light"
          }
        }
      ]
    },
    {
      "cell_type": "code",
      "metadata": {
        "id": "XwlvXOlQ4BqN"
      },
      "source": [
        ""
      ],
      "execution_count": null,
      "outputs": []
    }
  ]
}