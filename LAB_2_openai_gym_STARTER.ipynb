{
  "nbformat": 4,
  "nbformat_minor": 0,
  "metadata": {
    "colab": {
      "name": "LAB_2_openai_gym_STARTER.ipynb",
      "provenance": [],
      "collapsed_sections": [],
      "include_colab_link": true
    },
    "kernelspec": {
      "name": "python3",
      "display_name": "Python 3"
    },
    "accelerator": "GPU"
  },
  "cells": [
    {
      "cell_type": "markdown",
      "metadata": {
        "id": "view-in-github",
        "colab_type": "text"
      },
      "source": [
        "<a href=\"https://colab.research.google.com/github/karol10542/MachineLearning2021/blob/main/LAB_2_openai_gym_STARTER.ipynb\" target=\"_parent\"><img src=\"https://colab.research.google.com/assets/colab-badge.svg\" alt=\"Open In Colab\"/></a>"
      ]
    },
    {
      "cell_type": "code",
      "metadata": {
        "id": "9RnnVMGXsEqN",
        "colab": {
          "base_uri": "https://localhost:8080/"
        },
        "outputId": "3202884a-8c30-4126-dfd5-7e8178edecd5"
      },
      "source": [
        "# Rozwiązanie dla renderowania środowiska OpenAI Gym dla Google Colab, źródło:\r\n",
        "# Yandex Data School, Higher School of Economics, Practical_RL Course, Github, https://github.com/yandexdataschool/Practical_RL/blob/master/setup_colab.sh\r\n",
        "\r\n",
        "import sys, os \r\n",
        "if 'google.colab' in sys.modules and not os.path.exists('.setup_complete'):\r\n",
        "    !wget -q https://raw.githubusercontent.com/yandexdataschool/Practical_RL/master/setup_colab.sh -O- | bash\r\n",
        "    !touch .setup_complete\r\n",
        "\r\n",
        "if type(os.environ.get(\"DISPLAY\")) is not str or len(os.environ.get(\"DISPLAY\")) == 0:\r\n",
        "    !bash ../xvfb start\r\n",
        "    os.environ['DISPLAY'] = ':1'"
      ],
      "execution_count": 1,
      "outputs": [
        {
          "output_type": "stream",
          "text": [
            "Selecting previously unselected package xvfb.\n",
            "(Reading database ... 160975 files and directories currently installed.)\n",
            "Preparing to unpack .../xvfb_2%3a1.19.6-1ubuntu4.8_amd64.deb ...\n",
            "Unpacking xvfb (2:1.19.6-1ubuntu4.8) ...\n",
            "Setting up xvfb (2:1.19.6-1ubuntu4.8) ...\n",
            "Processing triggers for man-db (2.8.3-2ubuntu0.1) ...\n",
            "Starting virtual X frame buffer: Xvfb.\n"
          ],
          "name": "stdout"
        }
      ]
    },
    {
      "cell_type": "code",
      "metadata": {
        "id": "daJTqQrxuexI",
        "colab": {
          "base_uri": "https://localhost:8080/",
          "height": 34
        },
        "outputId": "41e06d40-9db7-4e5d-9554-d285a782b2c4"
      },
      "source": [
        "import matplotlib.pyplot as plt\r\n",
        "%matplotlib inline \r\n",
        "plt.figure(figsize=(4, 3))\r\n",
        "\r\n",
        "from IPython import display #do ogladania obrazkow dynamicznie\r\n",
        "display.clear_output(wait=True) # parametr zeby nie znikal obrazek"
      ],
      "execution_count": 3,
      "outputs": [
        {
          "output_type": "display_data",
          "data": {
            "text/plain": [
              "<Figure size 288x216 with 0 Axes>"
            ]
          },
          "metadata": {
            "tags": []
          }
        }
      ]
    },
    {
      "cell_type": "code",
      "metadata": {
        "id": "pogg_Rq_pBSc",
        "outputId": "f857af9b-022c-4e59-e1cb-6883c58f7f3e",
        "colab": {
          "base_uri": "https://localhost:8080/"
        }
      },
      "source": [
        "import gym \r\n",
        "env = gym.make(\"MountainCar-v0\") # do zmiennej env dopisujemy nasz przypadek\r\n",
        "env.reset() #resteuje wszystkie operacje do stanu poczatkowego, robimy to przed trninigiem itp"
      ],
      "execution_count": 6,
      "outputs": [
        {
          "output_type": "execute_result",
          "data": {
            "text/plain": [
              "array([-0.4818898,  0.       ])"
            ]
          },
          "metadata": {
            "tags": []
          },
          "execution_count": 6
        }
      ]
    },
    {
      "cell_type": "code",
      "metadata": {
        "id": "8XJO62ZvpEUM",
        "outputId": "8d185f52-b0ed-4f27-9f3c-ae7a6c8fb3db",
        "colab": {
          "base_uri": "https://localhost:8080/"
        }
      },
      "source": [
        "print(env.reset()) #inny sposob wyswietlnia"
      ],
      "execution_count": 7,
      "outputs": [
        {
          "output_type": "stream",
          "text": [
            "[-0.48005702  0.        ]\n"
          ],
          "name": "stdout"
        }
      ]
    },
    {
      "cell_type": "code",
      "metadata": {
        "id": "ZAoBEXpDp738",
        "outputId": "a9ee15aa-3bbc-41f7-b235-57956bb9b821",
        "colab": {
          "base_uri": "https://localhost:8080/",
          "height": 265
        }
      },
      "source": [
        "plt.imshow(env.render('rgb_array'))\r\n",
        "plt.axis(\"off\")"
      ],
      "execution_count": 10,
      "outputs": [
        {
          "output_type": "execute_result",
          "data": {
            "text/plain": [
              "(-0.5, 599.5, 399.5, -0.5)"
            ]
          },
          "metadata": {
            "tags": []
          },
          "execution_count": 10
        },
        {
          "output_type": "display_data",
          "data": {
            "image/png": "[encoded data removed]",
            "text/plain": [
              "<Figure size 432x288 with 1 Axes>"
            ]
          },
          "metadata": {
            "tags": [],
            "needs_background": "light"
          }
        }
      ]
    },
    {
      "cell_type": "code",
      "metadata": {
        "id": "oa-fEKgoqSoz",
        "outputId": "556c262e-ffc4-40d5-f9e5-133b749bb14f",
        "colab": {
          "base_uri": "https://localhost:8080/"
        }
      },
      "source": [
        "env.reset()\r\n",
        "\r\n",
        "for t in range(199): #dla kroku czasowego w jakims zakresie w tym przypadku 200-1\r\n",
        "  action = env.action_space.sample() #losowa akcja \r\n",
        "  observation, reward, done , info = env.step(action) # wykonuje krok wykonania naszej akcji i aktulalizuje krok zgodnie z ta akcja\r\n",
        "  print(t,observation,reward,done)\r\n"
      ],
      "execution_count": 13,
      "outputs": [
        {
          "output_type": "stream",
          "text": [
            "0 [-4.35014081e-01  3.45911229e-04] -1.0 False\n",
            "1 [-4.35324762e-01 -3.10681154e-04] -1.0 False\n",
            "2 [-0.43628979 -0.00096502] -1.0 False\n",
            "3 [-0.43690217 -0.00061238] -1.0 False\n",
            "4 [-4.37157467e-01 -2.55299012e-04] -1.0 False\n",
            "5 [-4.37053834e-01  1.03633134e-04] -1.0 False\n",
            "6 [-0.43659202  0.00046181] -1.0 False\n",
            "7 [-0.43577537  0.00081665] -1.0 False\n",
            "8 [-0.43660981 -0.00083443] -1.0 False\n",
            "9 [-0.43708928 -0.00047947] -1.0 False\n",
            "10 [-0.43921031 -0.00212103] -1.0 False\n",
            "11 [-0.44295752 -0.00374721] -1.0 False\n",
            "12 [-0.44730365 -0.00434613] -1.0 False\n",
            "13 [-0.45321701 -0.00591336] -1.0 False\n",
            "14 [-0.46065433 -0.00743731] -1.0 False\n",
            "15 [-0.46856092 -0.0079066 ] -1.0 False\n",
            "16 [-0.47687843 -0.00831751] -1.0 False\n",
            "17 [-0.4855452  -0.00866676] -1.0 False\n",
            "18 [-0.49349674 -0.00795155] -1.0 False\n",
            "19 [-0.50067375 -0.007177  ] -1.0 False\n",
            "20 [-0.50702255 -0.00634881] -1.0 False\n",
            "21 [-0.51449563 -0.00747308] -1.0 False\n",
            "22 [-0.52203697 -0.00754134] -1.0 False\n",
            "23 [-0.53059003 -0.00855306] -1.0 False\n",
            "24 [-0.53809066 -0.00750063] -1.0 False\n",
            "25 [-0.54648263 -0.00839197] -1.0 False\n",
            "26 [-0.5557031  -0.00922048] -1.0 False\n",
            "27 [-0.56368317 -0.00798007] -1.0 False\n",
            "28 [-0.57136333 -0.00768016] -1.0 False\n",
            "29 [-0.57968647 -0.00832315] -1.0 False\n",
            "30 [-0.58759095 -0.00790447] -1.0 False\n",
            "31 [-0.59501842 -0.00742747] -1.0 False\n",
            "32 [-0.60191434 -0.00689592] -1.0 False\n",
            "33 [-0.60822827 -0.00631394] -1.0 False\n",
            "34 [-0.61291429 -0.00468601] -1.0 False\n",
            "35 [-0.61593842 -0.00302413] -1.0 False\n",
            "36 [-0.61727883 -0.00134041] -1.0 False\n",
            "37 [-6.16925851e-01  3.52977912e-04] -1.0 False\n",
            "38 [-6.16882030e-01  4.38219304e-05] -1.0 False\n",
            "39 [-0.61514768  0.00173435] -1.0 False\n",
            "40 [-0.61373531  0.00141237] -1.0 False\n",
            "41 [-0.61065513  0.00308018] -1.0 False\n",
            "42 [-0.60592942  0.00472571] -1.0 False\n",
            "43 [-0.60159249  0.00433693] -1.0 False\n",
            "44 [-0.59767593  0.00391656] -1.0 False\n",
            "45 [-0.59220836  0.00546758] -1.0 False\n",
            "46 [-0.58722984  0.00497852] -1.0 False\n",
            "47 [-0.58077697  0.00645286] -1.0 False\n",
            "48 [-0.57289738  0.0078796 ] -1.0 False\n",
            "49 [-0.56464938  0.00824799] -1.0 False\n",
            "50 [-0.55709429  0.00755509] -1.0 False\n",
            "51 [-0.5492884   0.00780589] -1.0 False\n",
            "52 [-0.54229003  0.00699837] -1.0 False\n",
            "53 [-0.53515155  0.00713848] -1.0 False\n",
            "54 [-0.52892645  0.00622511] -1.0 False\n",
            "55 [-0.52166138  0.00726506] -1.0 False\n",
            "56 [-0.51441085  0.00725053] -1.0 False\n",
            "57 [-0.50622922  0.00818163] -1.0 False\n",
            "58 [-0.4971778   0.00905142] -1.0 False\n",
            "59 [-0.48832432  0.00885347] -1.0 False\n",
            "60 [-0.47873492  0.00958941] -1.0 False\n",
            "61 [-0.47048098  0.00825394] -1.0 False\n",
            "62 [-0.46162374  0.00885724] -1.0 False\n",
            "63 [-0.45422863  0.0073951 ] -1.0 False\n",
            "64 [-0.44635006  0.00787857] -1.0 False\n",
            "65 [-0.44004568  0.00630438] -1.0 False\n",
            "66 [-0.43436141  0.00568427] -1.0 False\n",
            "67 [-0.43033845  0.00402296] -1.0 False\n",
            "68 [-0.42800585  0.0023326 ] -1.0 False\n",
            "69 [-0.42538041  0.00262544] -1.0 False\n",
            "70 [-0.424481    0.00089941] -1.0 False\n",
            "71 [-4.24314067e-01  1.66935042e-04] -1.0 False\n",
            "72 [-0.42488081 -0.00056674] -1.0 False\n",
            "73 [-0.42617715 -0.00129635] -1.0 False\n",
            "74 [-0.42919381 -0.00301665] -1.0 False\n",
            "75 [-0.43290907 -0.00371526] -1.0 False\n",
            "76 [-0.43729614 -0.00438707] -1.0 False\n",
            "77 [-0.44132328 -0.00402714] -1.0 False\n",
            "78 [-0.44696124 -0.00563796] -1.0 False\n",
            "79 [-0.45316893 -0.00620769] -1.0 False\n",
            "80 [-0.45990092 -0.00673199] -1.0 False\n",
            "81 [-0.46710774 -0.00720682] -1.0 False\n",
            "82 [-0.47473622 -0.00762848] -1.0 False\n",
            "83 [-0.48272986 -0.00799364] -1.0 False\n",
            "84 [-0.49102924 -0.00829939] -1.0 False\n",
            "85 [-0.50057251 -0.00954327] -1.0 False\n",
            "86 [-0.51128834 -0.01071583] -1.0 False\n",
            "87 [-0.52109648 -0.00980814] -1.0 False\n",
            "88 [-0.53092339 -0.0098269 ] -1.0 False\n",
            "89 [-0.53969536 -0.00877197] -1.0 False\n",
            "90 [-0.54934666 -0.0096513 ] -1.0 False\n",
            "91 [-0.55780504 -0.00845838] -1.0 False\n",
            "92 [-0.56600732 -0.00820228] -1.0 False\n",
            "93 [-0.57389239 -0.00788508] -1.0 False\n",
            "94 [-0.5824017 -0.0085093] -1.0 False\n",
            "95 [-0.59147226 -0.00907057] -1.0 False\n",
            "96 [-0.60103729 -0.00956502] -1.0 False\n",
            "97 [-0.61102673 -0.00998945] -1.0 False\n",
            "98 [-0.61936796 -0.00834123] -1.0 False\n",
            "99 [-0.62700076 -0.0076328 ] -1.0 False\n",
            "100 [-0.63387043 -0.00686966] -1.0 False\n",
            "101 [-0.63992805 -0.00605763] -1.0 False\n",
            "102 [-0.64613082 -0.00620276] -1.0 False\n",
            "103 [-0.65043514 -0.00430433] -1.0 False\n",
            "104 [-0.65481099 -0.00437585] -1.0 False\n",
            "105 [-0.65822796 -0.00341697] -1.0 False\n",
            "106 [-0.66166244 -0.00343448] -1.0 False\n",
            "107 [-0.6630908  -0.00142836] -1.0 False\n",
            "108 [-0.66450324 -0.00141244] -1.0 False\n",
            "109 [-0.66589008 -0.00138685] -1.0 False\n",
            "110 [-6.66241862e-01 -3.51777415e-04] -1.0 False\n",
            "111 [-0.66555617  0.00068569] -1.0 False\n",
            "112 [-0.66383769  0.00171848] -1.0 False\n",
            "113 [-0.66209817  0.00173952] -1.0 False\n",
            "114 [-0.65834954  0.00374863] -1.0 False\n",
            "115 [-0.65461758  0.00373196] -1.0 False\n",
            "116 [-0.65092809  0.00368949] -1.0 False\n",
            "117 [-0.64530668  0.00562141] -1.0 False\n",
            "118 [-0.63779261  0.00751407] -1.0 False\n",
            "119 [-0.62843874  0.00935387] -1.0 False\n",
            "120 [-0.61931147  0.00912727] -1.0 False\n",
            "121 [-0.60947618  0.00983529] -1.0 False\n",
            "122 [-0.60000391  0.00947227] -1.0 False\n",
            "123 [-0.5899636  0.0100403] -1.0 False\n",
            "124 [-0.57842885  0.01153476] -1.0 False\n",
            "125 [-0.56548471  0.01294413] -1.0 False\n",
            "126 [-0.55222726  0.01325745] -1.0 False\n",
            "127 [-0.53875536  0.0134719 ] -1.0 False\n",
            "128 [-0.52616983  0.01258554] -1.0 False\n",
            "129 [-0.51456501  0.01160482] -1.0 False\n",
            "130 [-0.50202793  0.01253707] -1.0 False\n",
            "131 [-0.49065253  0.01137541] -1.0 False\n",
            "132 [-0.48052382  0.01012871] -1.0 False\n",
            "133 [-0.47071727  0.00980655] -1.0 False\n",
            "134 [-0.46130568  0.0094116 ] -1.0 False\n",
            "135 [-0.45135856  0.00994711] -1.0 False\n",
            "136 [-0.44094902  0.01040954] -1.0 False\n",
            "137 [-0.43215302  0.008796  ] -1.0 False\n",
            "138 [-0.42403429  0.00811873] -1.0 False\n",
            "139 [-0.41665124  0.00738305] -1.0 False\n",
            "140 [-0.41105661  0.00559463] -1.0 False\n",
            "141 [-0.40729009  0.00376651] -1.0 False\n",
            "142 [-0.4033783   0.00391179] -1.0 False\n",
            "143 [-0.39934874  0.00402956] -1.0 False\n",
            "144 [-0.39522963  0.00411911] -1.0 False\n",
            "145 [-0.39304967  0.00217997] -1.0 False\n",
            "146 [-0.39082398  0.00222569] -1.0 False\n",
            "147 [-0.38956798  0.001256  ] -1.0 False\n",
            "148 [-0.38829034  0.00127764] -1.0 False\n",
            "149 [-3.87999872e-01  2.90466547e-04] -1.0 False\n",
            "150 [-3.87698579e-01  3.01292834e-04] -1.0 False\n",
            "151 [-3.87388535e-01  3.10044235e-04] -1.0 False\n",
            "152 [-0.38807187 -0.00068334] -1.0 False\n",
            "153 [-0.39074389 -0.00267202] -1.0 False\n",
            "154 [-0.39338615 -0.00264226] -1.0 False\n",
            "155 [-0.39698035 -0.0035942 ] -1.0 False\n",
            "156 [-0.40250152 -0.00552117] -1.0 False\n",
            "157 [-0.40791107 -0.00540955] -1.0 False\n",
            "158 [-0.41517096 -0.00725989] -1.0 False\n",
            "159 [-0.4242298  -0.00905884] -1.0 False\n",
            "160 [-0.43302291 -0.00879312] -1.0 False\n",
            "161 [-0.44148702 -0.00846411] -1.0 False\n",
            "162 [-0.45156075 -0.01007373] -1.0 False\n",
            "163 [-0.46117057 -0.00960982] -1.0 False\n",
            "164 [-0.47224588 -0.0110753 ] -1.0 False\n",
            "165 [-0.4837048  -0.01145893] -1.0 False\n",
            "166 [-0.49546222 -0.01175742] -1.0 False\n",
            "167 [-0.50743041 -0.01196819] -1.0 False\n",
            "168 [-0.52051982 -0.01308941] -1.0 False\n",
            "169 [-0.53363232 -0.0131125 ] -1.0 False\n",
            "170 [-0.54666958 -0.01303726] -1.0 False\n",
            "171 [-0.55953395 -0.01286437] -1.0 False\n",
            "172 [-0.57212932 -0.01259537] -1.0 False\n",
            "173 [-0.585362   -0.01323268] -1.0 False\n",
            "174 [-0.5991341 -0.0137721] -1.0 False\n",
            "175 [-0.61134452 -0.01221042] -1.0 False\n",
            "176 [-0.62190443 -0.0105599 ] -1.0 False\n",
            "177 [-0.63073768 -0.00883325] -1.0 False\n",
            "178 [-0.63878115 -0.00804347] -1.0 False\n",
            "179 [-0.64597785 -0.0071967 ] -1.0 False\n",
            "180 [-0.65227718 -0.00629933] -1.0 False\n",
            "181 [-0.65863522 -0.00635804] -1.0 False\n",
            "182 [-0.66400796 -0.00537274] -1.0 False\n",
            "183 [-0.6683585  -0.00435054] -1.0 False\n",
            "184 [-0.67165714 -0.00329865] -1.0 False\n",
            "185 [-0.67388151 -0.00222436] -1.0 False\n",
            "186 [-0.67501654 -0.00113504] -1.0 False\n",
            "187 [-6.75054606e-01 -3.80612144e-05] -1.0 False\n",
            "188 [-6.74995432e-01  5.91739567e-05] -1.0 False\n",
            "189 [-0.67383942  0.00115601] -1.0 False\n",
            "190 [-0.67159437  0.00224505] -1.0 False\n",
            "191 [-0.66727547  0.00431891] -1.0 False\n",
            "192 [-0.66191204  0.00536342] -1.0 False\n",
            "193 [-0.65554078  0.00637126] -1.0 False\n",
            "194 [-0.64720559  0.00833519] -1.0 False\n",
            "195 [-0.63896446  0.00824114] -1.0 False\n",
            "196 [-0.62887525  0.01008921] -1.0 False\n",
            "197 [-0.61900952  0.00986572] -1.0 False\n",
            "198 [-0.60943795  0.00957157] -1.0 False\n"
          ],
          "name": "stdout"
        }
      ]
    },
    {
      "cell_type": "code",
      "metadata": {
        "id": "83m23L_ZrCPm"
      },
      "source": [
        "def policy(observation,t):\r\n",
        "  actions = {'left': 0,'stop':1,'right':2}\r\n",
        "\r\n",
        "  position, velocity = observation\r\n",
        "  if position < 0.5:\r\n",
        "    action['left']\r\n",
        "    if velocity == 0:\r\n",
        "      action['right']\r\n",
        "      if velocity == 0:\r\n",
        "        aciton['left']\r\n",
        "        if position == .5:\r\n",
        "          return action\r\n",
        "\r\n",
        "\r\n",
        "\r\n"
      ],
      "execution_count": 32,
      "outputs": []
    },
    {
      "cell_type": "code",
      "metadata": {
        "id": "ryswYfU1si5X",
        "outputId": "d9d48c45-f828-4c29-a923-683d421d3ebb",
        "colab": {
          "base_uri": "https://localhost:8080/",
          "height": 598
        }
      },
      "source": [
        "observation = env.reset()\r\n",
        "for t in range(199):\r\n",
        "  plt.gca().clear() #czysci os rozwiazania\r\n",
        "\r\n",
        "  actions = policy(observation,t)\r\n",
        "  observation,reward,done,info = env.step(action)\r\n",
        "\r\n",
        "  plt.imshow(env.render('rgb_array'))\r\n",
        "  display.display(plt.gcf())\r\n",
        "  display.clear_output(wait=True)\r\n",
        "\r\n",
        "  if done:\r\n",
        "    break"
      ],
      "execution_count": 33,
      "outputs": [
        {
          "output_type": "error",
          "ename": "TypeError",
          "evalue": "ignored",
          "traceback": [
            "\u001b[0;31m---------------------------------------------------------------------------\u001b[0m",
            "\u001b[0;31mTypeError\u001b[0m                                 Traceback (most recent call last)",
            "\u001b[0;32m<ipython-input-33-81ae50810b9a>\u001b[0m in \u001b[0;36m<module>\u001b[0;34m()\u001b[0m\n\u001b[1;32m      3\u001b[0m   \u001b[0mplt\u001b[0m\u001b[0;34m.\u001b[0m\u001b[0mgca\u001b[0m\u001b[0;34m(\u001b[0m\u001b[0;34m)\u001b[0m\u001b[0;34m.\u001b[0m\u001b[0mclear\u001b[0m\u001b[0;34m(\u001b[0m\u001b[0;34m)\u001b[0m \u001b[0;31m#czysci os rozwiazania\u001b[0m\u001b[0;34m\u001b[0m\u001b[0;34m\u001b[0m\u001b[0m\n\u001b[1;32m      4\u001b[0m \u001b[0;34m\u001b[0m\u001b[0m\n\u001b[0;32m----> 5\u001b[0;31m   \u001b[0mactions\u001b[0m \u001b[0;34m=\u001b[0m \u001b[0mpolicy\u001b[0m\u001b[0;34m(\u001b[0m\u001b[0mobservation\u001b[0m\u001b[0;34m,\u001b[0m\u001b[0mt\u001b[0m\u001b[0;34m)\u001b[0m\u001b[0;34m\u001b[0m\u001b[0;34m\u001b[0m\u001b[0m\n\u001b[0m\u001b[1;32m      6\u001b[0m   \u001b[0mobservation\u001b[0m\u001b[0;34m,\u001b[0m\u001b[0mreward\u001b[0m\u001b[0;34m,\u001b[0m\u001b[0mdone\u001b[0m\u001b[0;34m,\u001b[0m\u001b[0minfo\u001b[0m \u001b[0;34m=\u001b[0m \u001b[0menv\u001b[0m\u001b[0;34m.\u001b[0m\u001b[0mstep\u001b[0m\u001b[0;34m(\u001b[0m\u001b[0maction\u001b[0m\u001b[0;34m)\u001b[0m\u001b[0;34m\u001b[0m\u001b[0;34m\u001b[0m\u001b[0m\n\u001b[1;32m      7\u001b[0m \u001b[0;34m\u001b[0m\u001b[0m\n",
            "\u001b[0;32m<ipython-input-32-9a332845a9ef>\u001b[0m in \u001b[0;36mpolicy\u001b[0;34m(observation, t)\u001b[0m\n\u001b[1;32m      4\u001b[0m   \u001b[0mposition\u001b[0m\u001b[0;34m,\u001b[0m \u001b[0mvelocity\u001b[0m \u001b[0;34m=\u001b[0m \u001b[0mobservation\u001b[0m\u001b[0;34m\u001b[0m\u001b[0;34m\u001b[0m\u001b[0m\n\u001b[1;32m      5\u001b[0m   \u001b[0;32mif\u001b[0m \u001b[0mposition\u001b[0m \u001b[0;34m<\u001b[0m \u001b[0;36m0.5\u001b[0m\u001b[0;34m:\u001b[0m\u001b[0;34m\u001b[0m\u001b[0;34m\u001b[0m\u001b[0m\n\u001b[0;32m----> 6\u001b[0;31m     \u001b[0maction\u001b[0m\u001b[0;34m[\u001b[0m\u001b[0;34m'left'\u001b[0m\u001b[0;34m]\u001b[0m\u001b[0;34m\u001b[0m\u001b[0;34m\u001b[0m\u001b[0m\n\u001b[0m\u001b[1;32m      7\u001b[0m     \u001b[0;32mif\u001b[0m \u001b[0mvelocity\u001b[0m \u001b[0;34m==\u001b[0m \u001b[0;36m0\u001b[0m\u001b[0;34m:\u001b[0m\u001b[0;34m\u001b[0m\u001b[0;34m\u001b[0m\u001b[0m\n\u001b[1;32m      8\u001b[0m       \u001b[0maction\u001b[0m\u001b[0;34m[\u001b[0m\u001b[0;34m'right'\u001b[0m\u001b[0;34m]\u001b[0m\u001b[0;34m\u001b[0m\u001b[0;34m\u001b[0m\u001b[0m\n",
            "\u001b[0;31mTypeError\u001b[0m: 'int' object is not subscriptable"
          ]
        },
        {
          "output_type": "display_data",
          "data": {
            "image/png": "[encoded data removed]",
            "text/plain": [
              "<Figure size 432x288 with 1 Axes>"
            ]
          },
          "metadata": {
            "tags": [],
            "needs_background": "light"
          }
        }
      ]
    },
    {
      "cell_type": "code",
      "metadata": {
        "id": "8oeUXzi-s6h2",
        "outputId": "64d50db4-46d0-4657-b010-f0daf14fbc51",
        "colab": {
          "base_uri": "https://localhost:8080/"
        }
      },
      "source": [
        "observation = env.reset()\r\n",
        "\r\n",
        "for t in range(199):\r\n",
        "  actions = policy(observation,t)\r\n",
        "  observation,reward,done,info = env.step(actions)\r\n",
        "  print(t,observation,reward,done)\r\n",
        "  if done:\r\n",
        "    break"
      ],
      "execution_count": 19,
      "outputs": [
        {
          "output_type": "stream",
          "text": [
            "0 [-0.53233945  0.0010736 ] -1.0 False\n",
            "1 [-0.53020031  0.00213914] -1.0 False\n",
            "2 [-0.52701166  0.00318865] -1.0 False\n",
            "3 [-0.52279741  0.00421425] -1.0 False\n",
            "4 [-0.51758917  0.00520824] -1.0 False\n",
            "5 [-0.511426    0.00616317] -1.0 False\n",
            "6 [-0.50435411  0.00707189] -1.0 False\n",
            "7 [-0.49642647  0.00792764] -1.0 False\n",
            "8 [-0.4877024   0.00872407] -1.0 False\n",
            "9 [-0.47824703  0.00945537] -1.0 False\n",
            "10 [-0.46813075  0.01011628] -1.0 False\n",
            "11 [-0.45742856  0.01070219] -1.0 False\n",
            "12 [-0.4462194   0.01120916] -1.0 False\n",
            "13 [-0.43458539  0.01163402] -1.0 False\n",
            "14 [-0.42261107  0.01197432] -1.0 False\n",
            "15 [-0.41038262  0.01222845] -1.0 False\n",
            "16 [-0.39798706  0.01239556] -1.0 False\n",
            "17 [-0.38551145  0.01247561] -1.0 False\n",
            "18 [-0.37304213  0.01246932] -1.0 False\n",
            "19 [-0.36066398  0.01237815] -1.0 False\n",
            "20 [-0.34845975  0.01220422] -1.0 False\n",
            "21 [-0.33650946  0.01195029] -1.0 False\n",
            "22 [-0.32488982  0.01161964] -1.0 False\n",
            "23 [-0.31367379  0.01121604] -1.0 False\n",
            "24 [-0.30293016  0.01074363] -1.0 False\n",
            "25 [-0.29272328  0.01020688] -1.0 False\n",
            "26 [-0.2831128   0.00961048] -1.0 False\n",
            "27 [-0.27415353  0.00895928] -1.0 False\n",
            "28 [-0.2658953   0.00825823] -1.0 False\n",
            "29 [-0.25838298  0.00751231] -1.0 False\n",
            "30 [-0.25165646  0.00672652] -1.0 False\n",
            "31 [-0.24575067  0.00590579] -1.0 False\n",
            "32 [-0.24069568  0.00505499] -1.0 False\n",
            "33 [-0.23651675  0.00417892] -1.0 False\n",
            "34 [-0.23323447  0.00328229] -1.0 False\n",
            "35 [-0.23086476  0.0023697 ] -1.0 False\n",
            "36 [-0.22941904  0.00144572] -1.0 False\n",
            "37 [-0.2289042   0.00051484] -1.0 False\n",
            "38 [-0.2293227 -0.0004185] -1.0 False\n",
            "39 [-0.23067254 -0.00134984] -1.0 False\n",
            "40 [-0.23294729 -0.00227474] -1.0 False\n",
            "41 [-0.236136   -0.00318871] -1.0 False\n",
            "42 [-0.24022321 -0.00408721] -1.0 False\n",
            "43 [-0.24518883 -0.00496562] -1.0 False\n",
            "44 [-0.25100807 -0.00581925] -1.0 False\n",
            "45 [-0.25765138 -0.00664331] -1.0 False\n",
            "46 [-0.26508431 -0.00743293] -1.0 False\n",
            "47 [-0.27326751 -0.00818319] -1.0 False\n",
            "48 [-0.28215661 -0.00888911] -1.0 False\n",
            "49 [-0.2917023  -0.00954569] -1.0 False\n",
            "50 [-0.30185027 -0.01014797] -1.0 False\n",
            "51 [-0.31254138 -0.0106911 ] -1.0 False\n",
            "52 [-0.32371174 -0.01117037] -1.0 False\n",
            "53 [-0.33529302 -0.01158127] -1.0 False\n",
            "54 [-0.34721266 -0.01191964] -1.0 False\n",
            "55 [-0.35939431 -0.01218166] -1.0 False\n",
            "56 [-0.37175829 -0.01236398] -1.0 False\n",
            "57 [-0.3842221  -0.01246381] -1.0 False\n",
            "58 [-0.39670104 -0.01247894] -1.0 False\n",
            "59 [-0.40910889 -0.01240785] -1.0 False\n",
            "60 [-0.42135863 -0.01224974] -1.0 False\n",
            "61 [-0.4333632  -0.01200457] -1.0 False\n",
            "62 [-0.4450363 -0.0116731] -1.0 False\n",
            "63 [-0.45629319 -0.01125688] -1.0 False\n",
            "64 [-0.46705144 -0.01075825] -1.0 False\n",
            "65 [-0.47723177 -0.01018033] -1.0 False\n",
            "66 [-0.48675872 -0.00952696] -1.0 False\n",
            "67 [-0.49556142 -0.0088027 ] -1.0 False\n",
            "68 [-0.50357415 -0.00801273] -1.0 False\n",
            "69 [-0.51073697 -0.00716282] -1.0 False\n",
            "70 [-0.51699623 -0.00625926] -1.0 False\n",
            "71 [-0.52230501 -0.00530878] -1.0 False\n",
            "72 [-0.52662349 -0.00431848] -1.0 False\n",
            "73 [-0.52991929 -0.0032958 ] -1.0 False\n",
            "74 [-0.53216769 -0.0022484 ] -1.0 False\n",
            "75 [-0.53335182 -0.00118414] -1.0 False\n",
            "76 [-5.33462821e-01 -1.10998364e-04] -1.0 False\n",
            "77 [-0.53249985  0.00096297] -1.0 False\n",
            "78 [-0.53047013  0.00202972] -1.0 False\n",
            "79 [-0.52738888  0.00308125] -1.0 False\n",
            "80 [-0.5232792   0.00410968] -1.0 False\n",
            "81 [-0.51817192  0.00510728] -1.0 False\n",
            "82 [-0.51210534  0.00606658] -1.0 False\n",
            "83 [-0.50512494  0.0069804 ] -1.0 False\n",
            "84 [-0.49728302  0.00784191] -1.0 False\n",
            "85 [-0.48863827  0.00864475] -1.0 False\n",
            "86 [-0.47925524  0.00938303] -1.0 False\n",
            "87 [-0.46920381  0.01005143] -1.0 False\n",
            "88 [-0.45855853  0.01064528] -1.0 False\n",
            "89 [-0.44739797  0.01116057] -1.0 False\n",
            "90 [-0.43580394  0.01159402] -1.0 False\n",
            "91 [-0.42386079  0.01194315] -1.0 False\n",
            "92 [-0.41165457  0.01220623] -1.0 False\n",
            "93 [-0.39927223  0.01238234] -1.0 False\n",
            "94 [-0.38680087  0.01247136] -1.0 False\n",
            "95 [-0.37432694  0.01247393] -1.0 False\n",
            "96 [-0.3619355   0.01239144] -1.0 False\n",
            "97 [-0.34970956  0.01222594] -1.0 False\n",
            "98 [-0.33772943  0.01198012] -1.0 False\n",
            "99 [-0.32607221  0.01165723] -1.0 False\n",
            "100 [-0.31481123  0.01126097] -1.0 False\n",
            "101 [-0.30401577  0.01079547] -1.0 False\n",
            "102 [-0.29375062  0.01026515] -1.0 False\n",
            "103 [-0.28407594  0.00967468] -1.0 False\n",
            "104 [-0.27504702  0.00902891] -1.0 False\n",
            "105 [-0.26671424  0.00833278] -1.0 False\n",
            "106 [-0.25912297  0.00759127] -1.0 False\n",
            "107 [-0.25231361  0.00680937] -1.0 False\n",
            "108 [-0.24632159  0.00599201] -1.0 False\n",
            "109 [-0.24117749  0.0051441 ] -1.0 False\n",
            "110 [-0.23690707  0.00427042] -1.0 False\n",
            "111 [-0.23353138  0.00337569] -1.0 False\n",
            "112 [-0.23106684  0.00246454] -1.0 False\n",
            "113 [-0.22952531  0.00154153] -1.0 False\n",
            "114 [-0.22891416  0.00061115] -1.0 False\n",
            "115 [-0.2292363  -0.00032214] -1.0 False\n",
            "116 [-0.23049019 -0.00125389] -1.0 False\n",
            "117 [-0.23266985 -0.00217967] -1.0 False\n",
            "118 [-0.23576483 -0.00309497] -1.0 False\n",
            "119 [-0.23976011 -0.00399528] -1.0 False\n",
            "120 [-0.24463609 -0.00487598] -1.0 False\n",
            "121 [-0.25036847 -0.00573239] -1.0 False\n",
            "122 [-0.2569282  -0.00655972] -1.0 False\n",
            "123 [-0.26428133 -0.00735313] -1.0 False\n",
            "124 [-0.27238902 -0.00810769] -1.0 False\n",
            "125 [-0.28120743 -0.00881841] -1.0 False\n",
            "126 [-0.29068775 -0.00948032] -1.0 False\n",
            "127 [-0.30077619 -0.01008844] -1.0 False\n",
            "128 [-0.31141408 -0.0106379 ] -1.0 False\n",
            "129 [-0.32253805 -0.01112397] -1.0 False\n",
            "130 [-0.33408019 -0.01154213] -1.0 False\n",
            "131 [-0.34596836 -0.01188817] -1.0 False\n",
            "132 [-0.35812659 -0.01215824] -1.0 False\n",
            "133 [-0.37047552 -0.01234893] -1.0 False\n",
            "134 [-0.38293291 -0.01245739] -1.0 False\n",
            "135 [-0.39541426 -0.01248135] -1.0 False\n",
            "136 [-0.40783347 -0.01241921] -1.0 False\n",
            "137 [-0.42010357 -0.0122701 ] -1.0 False\n",
            "138 [-0.43213748 -0.0120339 ] -1.0 False\n",
            "139 [-0.44384877 -0.01171129] -1.0 False\n",
            "140 [-0.45515249 -0.01130372] -1.0 False\n",
            "141 [-0.46596596 -0.01081347] -1.0 False\n",
            "142 [-0.47620953 -0.01024357] -1.0 False\n",
            "143 [-0.48580732 -0.00959779] -1.0 False\n",
            "144 [-0.49468794 -0.00888062] -1.0 False\n",
            "145 [-0.50278512 -0.00809718] -1.0 False\n",
            "146 [-0.5100383  -0.00725318] -1.0 False\n",
            "147 [-0.51639316 -0.00635486] -1.0 False\n",
            "148 [-0.52180205 -0.00540889] -1.0 False\n",
            "149 [-0.52622442 -0.00442237] -1.0 False\n",
            "150 [-0.5296271  -0.00340268] -1.0 False\n",
            "151 [-0.53198457 -0.00235747] -1.0 False\n",
            "152 [-0.53327915 -0.00129458] -1.0 False\n",
            "153 [-5.33501134e-01 -2.21987849e-04] -1.0 False\n",
            "154 [-0.53264886  0.00085227] -1.0 False\n",
            "155 [-0.53072873  0.00192014] -1.0 False\n",
            "156 [-0.52775512  0.00297361] -1.0 False\n",
            "157 [-0.52375034  0.00400478] -1.0 False\n",
            "158 [-0.51874443  0.00500592] -1.0 False\n",
            "159 [-0.51277492  0.00596951] -1.0 False\n",
            "160 [-0.50588657  0.00688834] -1.0 False\n",
            "161 [-0.49813101  0.00775557] -1.0 False\n",
            "162 [-0.48956627  0.00856474] -1.0 False\n",
            "163 [-0.48025632  0.00930994] -1.0 False\n",
            "164 [-0.47027053  0.00998579] -1.0 False\n",
            "165 [-0.459683    0.01058753] -1.0 False\n",
            "166 [-0.44857191  0.0111111 ] -1.0 False\n",
            "167 [-0.43701878  0.01155313] -1.0 False\n",
            "168 [-0.42510772  0.01191106] -1.0 False\n",
            "169 [-0.41292464  0.01218308] -1.0 False\n",
            "170 [-0.40055645  0.01236819] -1.0 False\n",
            "171 [-0.38809026  0.01246619] -1.0 False\n",
            "172 [-0.37561263  0.01247763] -1.0 False\n",
            "173 [-0.36320879  0.01240384] -1.0 False\n",
            "174 [-0.35096199  0.0122468 ] -1.0 False\n",
            "175 [-0.33895285  0.01200914] -1.0 False\n",
            "176 [-0.32725882  0.01169403] -1.0 False\n",
            "177 [-0.31595365  0.01130517] -1.0 False\n",
            "178 [-0.30510703  0.01084661] -1.0 False\n",
            "179 [-0.29478426  0.01032277] -1.0 False\n",
            "180 [-0.28504596  0.0097383 ] -1.0 False\n",
            "181 [-0.27594795  0.00909801] -1.0 False\n",
            "182 [-0.2675411   0.00840685] -1.0 False\n",
            "183 [-0.25987131  0.00766979] -1.0 False\n",
            "184 [-0.25297948  0.00689183] -1.0 False\n",
            "185 [-0.24690156  0.00607791] -1.0 False\n",
            "186 [-0.24166863  0.00523293] -1.0 False\n",
            "187 [-0.23730694  0.00436169] -1.0 False\n",
            "188 [-0.23383802  0.00346892] -1.0 False\n",
            "189 [-0.23127876  0.00255926] -1.0 False\n",
            "190 [-0.2296415   0.00163726] -1.0 False\n",
            "191 [-0.22893407  0.00070743] -1.0 False\n",
            "192 [-2.29159829e-01 -2.25759627e-04] -1.0 False\n",
            "193 [-0.23031771 -0.00115788] -1.0 False\n",
            "194 [-0.23240219 -0.00208448] -1.0 False\n",
            "195 [-0.23540326 -0.00300107] -1.0 False\n",
            "196 [-0.2393064  -0.00390314] -1.0 False\n",
            "197 [-0.24409248 -0.00478608] -1.0 False\n",
            "198 [-0.2497377  -0.00564522] -1.0 False\n"
          ],
          "name": "stdout"
        }
      ]
    },
    {
      "cell_type": "code",
      "metadata": {
        "id": "4sw3iQ1ZuB7o"
      },
      "source": [
        ""
      ],
      "execution_count": null,
      "outputs": []
    }
  ]
}